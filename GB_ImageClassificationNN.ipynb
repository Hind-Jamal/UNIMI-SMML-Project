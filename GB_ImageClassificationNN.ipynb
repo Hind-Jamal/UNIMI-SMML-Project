{
  "nbformat": 4,
  "nbformat_minor": 0,
  "metadata": {
    "colab": {
      "name": "GB-ImageClassificationNN.ipynb",
      "provenance": [],
      "collapsed_sections": [
        "pt7T-jlPcSmm",
        "luwRFrtXQ8gu",
        "glj9aX6HyCNu",
        "4Ej80paCyHgi"
      ]
    },
    "kernelspec": {
      "display_name": "Python 3",
      "name": "python3"
    },
    "accelerator": "GPU"
  },
  "cells": [
    {
      "cell_type": "markdown",
      "metadata": {
        "id": "b5z_r6slowKl"
      },
      "source": [
        "# Image Classification with Neural Networks\n",
        "\n",
        "Statistical Methods for Machine Learning - AA 2019/2020\n",
        "\n",
        "Università degli Studi di Milano\n",
        "\n",
        "Gerard Baholli 943594"
      ]
    },
    {
      "cell_type": "markdown",
      "metadata": {
        "id": "mkpRok74cOjp"
      },
      "source": [
        "## Setup"
      ]
    },
    {
      "cell_type": "code",
      "metadata": {
        "colab": {
          "base_uri": "https://localhost:8080/"
        },
        "id": "CunULkXrbZTQ",
        "outputId": "92b2a90a-3185-4fe9-84ad-db18428fedad"
      },
      "source": [
        "import numpy as np\n",
        "import os\n",
        "import PIL\n",
        "import PIL.Image\n",
        "import tensorflow as tf\n",
        "import tensorflow_datasets as tfds\n",
        "\n",
        "print(tf.__version__)"
      ],
      "execution_count": null,
      "outputs": [
        {
          "output_type": "stream",
          "text": [
            "2.3.0\n"
          ],
          "name": "stdout"
        }
      ]
    },
    {
      "cell_type": "code",
      "metadata": {
        "colab": {
          "base_uri": "https://localhost:8080/"
        },
        "id": "B5dMO9QfbgpL",
        "outputId": "19c628d5-0cf4-45b2-f161-92da252371fa"
      },
      "source": [
        "import pathlib\n",
        "\n",
        "data_dir = pathlib.Path(\"/content/drive/My Drive/Colab Notebooks/dataset2\")\n",
        "image_count = len(list(data_dir.glob('*/*.jpg')))\n",
        "print(image_count)"
      ],
      "execution_count": null,
      "outputs": [
        {
          "output_type": "stream",
          "text": [
            "32369\n"
          ],
          "name": "stdout"
        }
      ]
    },
    {
      "cell_type": "markdown",
      "metadata": {
        "id": "pt7T-jlPcSmm"
      },
      "source": [
        "## Preprocessing"
      ]
    },
    {
      "cell_type": "markdown",
      "metadata": {
        "id": "c9KcjMpdcvby"
      },
      "source": [
        "### Create a dataset"
      ]
    },
    {
      "cell_type": "code",
      "metadata": {
        "id": "Im3vo-XOcY9k"
      },
      "source": [
        "batch_size = 64\n",
        "img_height = 32\n",
        "img_width = 32"
      ],
      "execution_count": null,
      "outputs": []
    },
    {
      "cell_type": "code",
      "metadata": {
        "colab": {
          "base_uri": "https://localhost:8080/"
        },
        "id": "bfKzmv3mcyc-",
        "outputId": "625d9707-1275-46e8-b560-ca279f862004"
      },
      "source": [
        "train_ds = tf.keras.preprocessing.image_dataset_from_directory(\n",
        "  data_dir,\n",
        "  validation_split=0.2,\n",
        "  subset=\"training\",\n",
        "  seed=123,\n",
        "  image_size=(img_height, img_width),\n",
        "  batch_size=batch_size\n",
        "  )"
      ],
      "execution_count": null,
      "outputs": [
        {
          "output_type": "stream",
          "text": [
            "Found 32369 files belonging to 10 classes.\n",
            "Using 25896 files for training.\n"
          ],
          "name": "stdout"
        }
      ]
    },
    {
      "cell_type": "code",
      "metadata": {
        "colab": {
          "base_uri": "https://localhost:8080/"
        },
        "id": "9UgUIDuzcyPx",
        "outputId": "23a02416-0d64-4948-ad5c-52f9d1bd9f19"
      },
      "source": [
        "val_ds = tf.keras.preprocessing.image_dataset_from_directory(\n",
        "  data_dir,\n",
        "  validation_split=0.2,\n",
        "  subset=\"validation\",\n",
        "  seed=123,\n",
        "  image_size=(img_height, img_width),\n",
        "  batch_size=batch_size\n",
        "  )"
      ],
      "execution_count": null,
      "outputs": [
        {
          "output_type": "stream",
          "text": [
            "Found 32369 files belonging to 10 classes.\n",
            "Using 6473 files for validation.\n"
          ],
          "name": "stdout"
        }
      ]
    },
    {
      "cell_type": "code",
      "metadata": {
        "colab": {
          "base_uri": "https://localhost:8080/"
        },
        "id": "KIQRPsu6c1RI",
        "outputId": "eac19a87-4360-410e-87bb-bac7d50edcde"
      },
      "source": [
        "class_names = train_ds.class_names\n",
        "print(class_names)"
      ],
      "execution_count": null,
      "outputs": [
        {
          "output_type": "stream",
          "text": [
            "['Apple', 'Banana', 'Cherry', 'Grape', 'Peach', 'Pear', 'Pepper', 'Plum', 'Potato', 'Tomato']\n"
          ],
          "name": "stdout"
        }
      ]
    },
    {
      "cell_type": "markdown",
      "metadata": {
        "id": "bU9N-3f0lNCo"
      },
      "source": [
        "### Configure the dataset for performance"
      ]
    },
    {
      "cell_type": "markdown",
      "metadata": {
        "id": "pVFAhjMtlVJj"
      },
      "source": [
        "Let's make sure to use buffered prefetching so we can yield data from disk without having I/O become blocking."
      ]
    },
    {
      "cell_type": "code",
      "metadata": {
        "id": "cAAhjgk5lSUr"
      },
      "source": [
        "AUTOTUNE = tf.data.experimental.AUTOTUNE\n",
        "\n",
        "train_ds = train_ds.cache().prefetch(buffer_size=AUTOTUNE)\n",
        "val_ds = val_ds.cache().prefetch(buffer_size=AUTOTUNE)"
      ],
      "execution_count": null,
      "outputs": []
    },
    {
      "cell_type": "markdown",
      "metadata": {
        "id": "GUJu8DzXyBKo"
      },
      "source": [
        "## Defs"
      ]
    },
    {
      "cell_type": "code",
      "metadata": {
        "id": "PMbp9BBZxg5k"
      },
      "source": [
        "from tensorflow.keras import layers\n",
        "import matplotlib.pyplot as plt\n",
        "\n",
        "num_classes = 10\n",
        "n_epochs = 20"
      ],
      "execution_count": null,
      "outputs": []
    },
    {
      "cell_type": "code",
      "metadata": {
        "id": "eoti_YNlyO_H"
      },
      "source": [
        "# PLOT FUNCTION OF THE MODEL\n",
        "def plt_history(history):\n",
        "\n",
        "  acc = history.history['accuracy']\n",
        "  val_acc = history.history['val_accuracy']\n",
        "\n",
        "  loss = history.history['loss']\n",
        "  val_loss = history.history['val_loss']\n",
        "\n",
        "  epochs_range = range(n_epochs)\n",
        "\n",
        "  plt.figure(figsize=(12, 8))\n",
        "  plt.subplot(1, 2, 1)\n",
        "  plt.plot(epochs_range, acc, label='Training Accuracy')\n",
        "  plt.plot(epochs_range, val_acc, label='Validation Accuracy')\n",
        "  plt.legend(loc='lower right')\n",
        "  plt.title('Accuracy')\n",
        "\n",
        "  plt.subplot(1, 2, 2)\n",
        "  plt.plot(epochs_range, loss, label='Training Loss')\n",
        "  plt.plot(epochs_range, val_loss, label='Validation Loss')\n",
        "  plt.legend(loc='upper right')\n",
        "  plt.title('Loss')\n",
        "  return plt.show()"
      ],
      "execution_count": null,
      "outputs": []
    },
    {
      "cell_type": "markdown",
      "metadata": {
        "id": "eILlq73QHLsJ"
      },
      "source": [
        "## Model 1"
      ]
    },
    {
      "cell_type": "markdown",
      "metadata": {
        "id": "eoretOSvQL83"
      },
      "source": [
        "### Training 1"
      ]
    },
    {
      "cell_type": "code",
      "metadata": {
        "id": "KmK172-EHPol"
      },
      "source": [
        "model = tf.keras.Sequential([\n",
        "  layers.experimental.preprocessing.Rescaling(1./255, input_shape=(img_height, img_width, 3)),\n",
        "  layers.Flatten(),\n",
        "  layers.Dense(15, activation='relu'),\n",
        "  layers.Dense(num_classes)\n",
        "])"
      ],
      "execution_count": null,
      "outputs": []
    },
    {
      "cell_type": "code",
      "metadata": {
        "id": "KbWQTQ5rHdIi"
      },
      "source": [
        "model.compile(\n",
        "  optimizer='adam',\n",
        "  loss=tf.losses.SparseCategoricalCrossentropy(from_logits=True),\n",
        "  metrics=['accuracy'])"
      ],
      "execution_count": null,
      "outputs": []
    },
    {
      "cell_type": "code",
      "metadata": {
        "id": "k5xokESeHhYm",
        "colab": {
          "base_uri": "https://localhost:8080/"
        },
        "outputId": "046cc1b4-5e4e-41ba-a45f-6047caab0306"
      },
      "source": [
        "history = model.fit(\n",
        "  train_ds,\n",
        "  validation_data = val_ds,\n",
        "  epochs = n_epochs\n",
        ")"
      ],
      "execution_count": null,
      "outputs": [
        {
          "output_type": "stream",
          "text": [
            "Epoch 1/20\n",
            "405/405 [==============================] - 39s 96ms/step - loss: 2.0249 - accuracy: 0.2668 - val_loss: 1.9300 - val_accuracy: 0.2858\n",
            "Epoch 2/20\n",
            "405/405 [==============================] - 1s 2ms/step - loss: 1.8869 - accuracy: 0.3070 - val_loss: 1.8296 - val_accuracy: 0.3212\n",
            "Epoch 3/20\n",
            "405/405 [==============================] - 1s 3ms/step - loss: 1.8087 - accuracy: 0.3361 - val_loss: 1.7638 - val_accuracy: 0.3646\n",
            "Epoch 4/20\n",
            "405/405 [==============================] - 1s 2ms/step - loss: 1.7529 - accuracy: 0.3594 - val_loss: 1.7132 - val_accuracy: 0.3722\n",
            "Epoch 5/20\n",
            "405/405 [==============================] - 1s 2ms/step - loss: 1.7100 - accuracy: 0.3723 - val_loss: 1.6755 - val_accuracy: 0.3814\n",
            "Epoch 6/20\n",
            "405/405 [==============================] - 1s 2ms/step - loss: 1.6767 - accuracy: 0.3838 - val_loss: 1.6461 - val_accuracy: 0.3936\n",
            "Epoch 7/20\n",
            "405/405 [==============================] - 1s 2ms/step - loss: 1.6492 - accuracy: 0.3913 - val_loss: 1.6235 - val_accuracy: 0.3997\n",
            "Epoch 8/20\n",
            "405/405 [==============================] - 1s 3ms/step - loss: 1.6261 - accuracy: 0.3957 - val_loss: 1.6051 - val_accuracy: 0.4037\n",
            "Epoch 9/20\n",
            "405/405 [==============================] - 1s 2ms/step - loss: 1.6084 - accuracy: 0.3994 - val_loss: 1.5854 - val_accuracy: 0.4128\n",
            "Epoch 10/20\n",
            "405/405 [==============================] - 1s 3ms/step - loss: 1.5923 - accuracy: 0.4029 - val_loss: 1.5704 - val_accuracy: 0.4163\n",
            "Epoch 11/20\n",
            "405/405 [==============================] - 1s 2ms/step - loss: 1.5783 - accuracy: 0.4057 - val_loss: 1.5607 - val_accuracy: 0.4176\n",
            "Epoch 12/20\n",
            "405/405 [==============================] - 1s 3ms/step - loss: 1.5657 - accuracy: 0.4081 - val_loss: 1.5489 - val_accuracy: 0.4224\n",
            "Epoch 13/20\n",
            "405/405 [==============================] - 1s 2ms/step - loss: 1.5547 - accuracy: 0.4101 - val_loss: 1.5347 - val_accuracy: 0.4242\n",
            "Epoch 14/20\n",
            "405/405 [==============================] - 1s 2ms/step - loss: 1.5442 - accuracy: 0.4118 - val_loss: 1.5240 - val_accuracy: 0.4261\n",
            "Epoch 15/20\n",
            "405/405 [==============================] - 1s 2ms/step - loss: 1.5352 - accuracy: 0.4137 - val_loss: 1.5135 - val_accuracy: 0.4276\n",
            "Epoch 16/20\n",
            "405/405 [==============================] - 1s 3ms/step - loss: 1.5252 - accuracy: 0.4161 - val_loss: 1.5050 - val_accuracy: 0.4309\n",
            "Epoch 17/20\n",
            "405/405 [==============================] - 1s 2ms/step - loss: 1.5156 - accuracy: 0.4184 - val_loss: 1.4971 - val_accuracy: 0.4302\n",
            "Epoch 18/20\n",
            "405/405 [==============================] - 1s 2ms/step - loss: 1.5060 - accuracy: 0.4211 - val_loss: 1.4881 - val_accuracy: 0.4327\n",
            "Epoch 19/20\n",
            "405/405 [==============================] - 1s 2ms/step - loss: 1.4963 - accuracy: 0.4222 - val_loss: 1.4815 - val_accuracy: 0.4340\n",
            "Epoch 20/20\n",
            "405/405 [==============================] - 1s 3ms/step - loss: 1.4876 - accuracy: 0.4238 - val_loss: 1.4749 - val_accuracy: 0.4343\n"
          ],
          "name": "stdout"
        }
      ]
    },
    {
      "cell_type": "code",
      "metadata": {
        "id": "NmJ5Vs3WHnDY",
        "colab": {
          "base_uri": "https://localhost:8080/"
        },
        "outputId": "7bf021bd-9c10-4f0d-a3fe-b1bc5e8838de"
      },
      "source": [
        "model.summary()"
      ],
      "execution_count": null,
      "outputs": [
        {
          "output_type": "stream",
          "text": [
            "Model: \"sequential_70\"\n",
            "_________________________________________________________________\n",
            "Layer (type)                 Output Shape              Param #   \n",
            "=================================================================\n",
            "rescaling_61 (Rescaling)     (None, 32, 32, 3)         0         \n",
            "_________________________________________________________________\n",
            "flatten_55 (Flatten)         (None, 3072)              0         \n",
            "_________________________________________________________________\n",
            "dense_142 (Dense)            (None, 15)                46095     \n",
            "_________________________________________________________________\n",
            "dense_143 (Dense)            (None, 10)                160       \n",
            "=================================================================\n",
            "Total params: 46,255\n",
            "Trainable params: 46,255\n",
            "Non-trainable params: 0\n",
            "_________________________________________________________________\n"
          ],
          "name": "stdout"
        }
      ]
    },
    {
      "cell_type": "code",
      "metadata": {
        "id": "Wi80XulzHqgN",
        "colab": {
          "base_uri": "https://localhost:8080/",
          "height": 442
        },
        "outputId": "0d0eb733-3289-4194-9f21-61bda0d6f0d0"
      },
      "source": [
        "plt_history(history)"
      ],
      "execution_count": null,
      "outputs": [
        {
          "output_type": "display_data",
          "data": {
            "image/png": "[encoded data removed]",
            "text/plain": [
              "<Figure size 864x576 with 2 Axes>"
            ]
          },
          "metadata": {
            "tags": [],
            "needs_background": "light"
          }
        }
      ]
    },
    {
      "cell_type": "code",
      "metadata": {
        "id": "uLNozZHNHzgx",
        "colab": {
          "base_uri": "https://localhost:8080/"
        },
        "outputId": "73c23d37-c95b-40f1-f6b0-4fadf3f98dcc"
      },
      "source": [
        "evaluation = model.evaluate(val_ds)"
      ],
      "execution_count": null,
      "outputs": [
        {
          "output_type": "stream",
          "text": [
            "102/102 [==============================] - 0s 2ms/step - loss: 1.4749 - accuracy: 0.4343\n"
          ],
          "name": "stdout"
        }
      ]
    },
    {
      "cell_type": "code",
      "metadata": {
        "colab": {
          "base_uri": "https://localhost:8080/"
        },
        "id": "DMG-jV6c8L3n",
        "outputId": "29c1aed0-b31b-4825-862b-beaa4f762c3a"
      },
      "source": [
        "print(\"Loss (zero-one-loss): \", 1-evaluation[1])"
      ],
      "execution_count": null,
      "outputs": [
        {
          "output_type": "stream",
          "text": [
            "Loss (zero-one-loss):  0.5657345950603485\n"
          ],
          "name": "stdout"
        }
      ]
    },
    {
      "cell_type": "markdown",
      "metadata": {
        "id": "iToPj3YcJH8g"
      },
      "source": [
        "### Training 2"
      ]
    },
    {
      "cell_type": "code",
      "metadata": {
        "id": "VnT7iszjJGnH",
        "colab": {
          "base_uri": "https://localhost:8080/"
        },
        "outputId": "38ee4de9-f049-461a-cd9d-92d9f29ab1df"
      },
      "source": [
        "history = model.fit(\n",
        "  train_ds,\n",
        "  validation_data=val_ds,\n",
        "  epochs = n_epochs\n",
        ")"
      ],
      "execution_count": null,
      "outputs": [
        {
          "output_type": "stream",
          "text": [
            "Epoch 1/20\n",
            "405/405 [==============================] - 1s 3ms/step - loss: 1.4798 - accuracy: 0.4242 - val_loss: 1.4666 - val_accuracy: 0.4344\n",
            "Epoch 2/20\n",
            "405/405 [==============================] - 1s 2ms/step - loss: 1.4729 - accuracy: 0.4250 - val_loss: 1.4597 - val_accuracy: 0.4355\n",
            "Epoch 3/20\n",
            "405/405 [==============================] - 1s 2ms/step - loss: 1.4674 - accuracy: 0.4254 - val_loss: 1.4539 - val_accuracy: 0.4357\n",
            "Epoch 4/20\n",
            "405/405 [==============================] - 1s 2ms/step - loss: 1.4614 - accuracy: 0.4265 - val_loss: 1.4474 - val_accuracy: 0.4350\n",
            "Epoch 5/20\n",
            "405/405 [==============================] - 1s 2ms/step - loss: 1.4554 - accuracy: 0.4325 - val_loss: 1.4419 - val_accuracy: 0.4377\n",
            "Epoch 6/20\n",
            "405/405 [==============================] - 1s 3ms/step - loss: 1.4506 - accuracy: 0.4344 - val_loss: 1.4369 - val_accuracy: 0.4392\n",
            "Epoch 7/20\n",
            "405/405 [==============================] - 1s 3ms/step - loss: 1.4445 - accuracy: 0.4374 - val_loss: 1.4310 - val_accuracy: 0.4428\n",
            "Epoch 8/20\n",
            "405/405 [==============================] - 1s 2ms/step - loss: 1.4391 - accuracy: 0.4399 - val_loss: 1.4260 - val_accuracy: 0.4454\n",
            "Epoch 9/20\n",
            "405/405 [==============================] - 1s 3ms/step - loss: 1.4354 - accuracy: 0.4425 - val_loss: 1.4227 - val_accuracy: 0.4476\n",
            "Epoch 10/20\n",
            "405/405 [==============================] - 1s 2ms/step - loss: 1.4305 - accuracy: 0.4426 - val_loss: 1.4174 - val_accuracy: 0.4480\n",
            "Epoch 11/20\n",
            "405/405 [==============================] - 1s 2ms/step - loss: 1.4260 - accuracy: 0.4456 - val_loss: 1.4132 - val_accuracy: 0.4503\n",
            "Epoch 12/20\n",
            "405/405 [==============================] - 1s 2ms/step - loss: 1.4234 - accuracy: 0.4470 - val_loss: 1.4097 - val_accuracy: 0.4516\n",
            "Epoch 13/20\n",
            "405/405 [==============================] - 1s 2ms/step - loss: 1.4166 - accuracy: 0.4507 - val_loss: 1.4057 - val_accuracy: 0.4533\n",
            "Epoch 14/20\n",
            "405/405 [==============================] - 1s 3ms/step - loss: 1.4139 - accuracy: 0.4511 - val_loss: 1.4020 - val_accuracy: 0.4539\n",
            "Epoch 15/20\n",
            "405/405 [==============================] - 1s 2ms/step - loss: 1.4105 - accuracy: 0.4532 - val_loss: 1.3980 - val_accuracy: 0.4553\n",
            "Epoch 16/20\n",
            "405/405 [==============================] - 1s 2ms/step - loss: 1.4072 - accuracy: 0.4551 - val_loss: 1.3952 - val_accuracy: 0.4584\n",
            "Epoch 17/20\n",
            "405/405 [==============================] - 1s 2ms/step - loss: 1.4042 - accuracy: 0.4564 - val_loss: 1.3930 - val_accuracy: 0.4611\n",
            "Epoch 18/20\n",
            "405/405 [==============================] - 1s 2ms/step - loss: 1.4011 - accuracy: 0.4577 - val_loss: 1.3892 - val_accuracy: 0.4607\n",
            "Epoch 19/20\n",
            "405/405 [==============================] - 1s 2ms/step - loss: 1.3977 - accuracy: 0.4596 - val_loss: 1.3859 - val_accuracy: 0.4627\n",
            "Epoch 20/20\n",
            "405/405 [==============================] - 1s 2ms/step - loss: 1.3941 - accuracy: 0.4612 - val_loss: 1.3825 - val_accuracy: 0.4642\n"
          ],
          "name": "stdout"
        }
      ]
    },
    {
      "cell_type": "code",
      "metadata": {
        "id": "jYdT_Ke3JSos",
        "colab": {
          "base_uri": "https://localhost:8080/"
        },
        "outputId": "9ff7883d-1b53-4b28-fa3f-2dc2070901f9"
      },
      "source": [
        "evaluation = model.evaluate(val_ds)"
      ],
      "execution_count": null,
      "outputs": [
        {
          "output_type": "stream",
          "text": [
            "102/102 [==============================] - 0s 2ms/step - loss: 1.3825 - accuracy: 0.4642\n"
          ],
          "name": "stdout"
        }
      ]
    },
    {
      "cell_type": "code",
      "metadata": {
        "colab": {
          "base_uri": "https://localhost:8080/"
        },
        "id": "gKXNxl_-8J1Z",
        "outputId": "82013d61-8fa0-465e-a692-706ec640b872"
      },
      "source": [
        "print(\"Loss (zero-one-loss): \", 1-evaluation[1])"
      ],
      "execution_count": null,
      "outputs": [
        {
          "output_type": "stream",
          "text": [
            "Loss (zero-one-loss):  0.5357639491558075\n"
          ],
          "name": "stdout"
        }
      ]
    },
    {
      "cell_type": "markdown",
      "metadata": {
        "id": "M6-OtZ_Rdz7-"
      },
      "source": [
        "## Model 2"
      ]
    },
    {
      "cell_type": "markdown",
      "metadata": {
        "id": "fC7aCr5XVzuR"
      },
      "source": [
        "### Training 1"
      ]
    },
    {
      "cell_type": "code",
      "metadata": {
        "id": "SwkVjY8Ydijm"
      },
      "source": [
        "model2 = tf.keras.Sequential([\n",
        "  layers.experimental.preprocessing.Rescaling(1./255, input_shape=(img_height, img_width, 3)),\n",
        "  layers.Conv2D(1, kernel_size=(5, 5), padding='same', activation='relu'),\n",
        "  layers.MaxPooling2D(),\n",
        "  layers.Flatten(),\n",
        "  layers.Dense(15, activation='relu'),\n",
        "  layers.Dense(num_classes)\n",
        "])"
      ],
      "execution_count": null,
      "outputs": []
    },
    {
      "cell_type": "code",
      "metadata": {
        "id": "iibIyyNTeMN1"
      },
      "source": [
        "model2.compile(\n",
        "  optimizer='adam',\n",
        "  loss=tf.losses.SparseCategoricalCrossentropy(from_logits=True),\n",
        "  metrics=['accuracy'])"
      ],
      "execution_count": null,
      "outputs": []
    },
    {
      "cell_type": "code",
      "metadata": {
        "id": "KZF_3DrkeNXE",
        "colab": {
          "base_uri": "https://localhost:8080/"
        },
        "outputId": "a9268ba7-64ab-43d7-b2ec-bcfac284a4a6"
      },
      "source": [
        "history2 = model2.fit(\n",
        "  train_ds,\n",
        "  validation_data = val_ds,\n",
        "  epochs = n_epochs\n",
        ")"
      ],
      "execution_count": null,
      "outputs": [
        {
          "output_type": "stream",
          "text": [
            "Epoch 1/20\n",
            "405/405 [==============================] - 1s 3ms/step - loss: 1.5608 - accuracy: 0.4569 - val_loss: 1.1002 - val_accuracy: 0.6295\n",
            "Epoch 2/20\n",
            "405/405 [==============================] - 1s 3ms/step - loss: 0.9809 - accuracy: 0.6727 - val_loss: 0.8540 - val_accuracy: 0.7147\n",
            "Epoch 3/20\n",
            "405/405 [==============================] - 1s 3ms/step - loss: 0.8262 - accuracy: 0.7293 - val_loss: 0.7448 - val_accuracy: 0.7530\n",
            "Epoch 4/20\n",
            "405/405 [==============================] - 1s 3ms/step - loss: 0.7366 - accuracy: 0.7585 - val_loss: 0.6795 - val_accuracy: 0.7734\n",
            "Epoch 5/20\n",
            "405/405 [==============================] - 1s 3ms/step - loss: 0.6702 - accuracy: 0.7818 - val_loss: 0.6356 - val_accuracy: 0.7919\n",
            "Epoch 6/20\n",
            "405/405 [==============================] - 1s 3ms/step - loss: 0.6189 - accuracy: 0.7982 - val_loss: 0.5977 - val_accuracy: 0.8041\n",
            "Epoch 7/20\n",
            "405/405 [==============================] - 1s 3ms/step - loss: 0.5770 - accuracy: 0.8118 - val_loss: 0.5737 - val_accuracy: 0.8092\n",
            "Epoch 8/20\n",
            "405/405 [==============================] - 1s 3ms/step - loss: 0.5413 - accuracy: 0.8252 - val_loss: 0.5431 - val_accuracy: 0.8155\n",
            "Epoch 9/20\n",
            "405/405 [==============================] - 1s 3ms/step - loss: 0.5104 - accuracy: 0.8353 - val_loss: 0.5169 - val_accuracy: 0.8243\n",
            "Epoch 10/20\n",
            "405/405 [==============================] - 1s 3ms/step - loss: 0.4831 - accuracy: 0.8441 - val_loss: 0.4949 - val_accuracy: 0.8281\n",
            "Epoch 11/20\n",
            "405/405 [==============================] - 1s 3ms/step - loss: 0.4590 - accuracy: 0.8509 - val_loss: 0.4727 - val_accuracy: 0.8379\n",
            "Epoch 12/20\n",
            "405/405 [==============================] - 1s 3ms/step - loss: 0.4374 - accuracy: 0.8571 - val_loss: 0.4448 - val_accuracy: 0.8461\n",
            "Epoch 13/20\n",
            "405/405 [==============================] - 1s 3ms/step - loss: 0.4179 - accuracy: 0.8647 - val_loss: 0.4238 - val_accuracy: 0.8539\n",
            "Epoch 14/20\n",
            "405/405 [==============================] - 1s 3ms/step - loss: 0.4014 - accuracy: 0.8699 - val_loss: 0.4070 - val_accuracy: 0.8605\n",
            "Epoch 15/20\n",
            "405/405 [==============================] - 1s 3ms/step - loss: 0.3857 - accuracy: 0.8760 - val_loss: 0.3918 - val_accuracy: 0.8673\n",
            "Epoch 16/20\n",
            "405/405 [==============================] - 1s 3ms/step - loss: 0.3721 - accuracy: 0.8796 - val_loss: 0.3776 - val_accuracy: 0.8729\n",
            "Epoch 17/20\n",
            "405/405 [==============================] - 1s 3ms/step - loss: 0.3594 - accuracy: 0.8843 - val_loss: 0.3652 - val_accuracy: 0.8789\n",
            "Epoch 18/20\n",
            "405/405 [==============================] - 1s 3ms/step - loss: 0.3472 - accuracy: 0.8889 - val_loss: 0.3517 - val_accuracy: 0.8843\n",
            "Epoch 19/20\n",
            "405/405 [==============================] - 1s 3ms/step - loss: 0.3365 - accuracy: 0.8934 - val_loss: 0.3434 - val_accuracy: 0.8875\n",
            "Epoch 20/20\n",
            "405/405 [==============================] - 1s 3ms/step - loss: 0.3266 - accuracy: 0.8964 - val_loss: 0.3371 - val_accuracy: 0.8889\n"
          ],
          "name": "stdout"
        }
      ]
    },
    {
      "cell_type": "code",
      "metadata": {
        "id": "dGssGAHrkyB3",
        "colab": {
          "base_uri": "https://localhost:8080/"
        },
        "outputId": "5d217eda-6676-469a-d820-c5d2f95f2c0f"
      },
      "source": [
        "model2.summary()"
      ],
      "execution_count": null,
      "outputs": [
        {
          "output_type": "stream",
          "text": [
            "Model: \"sequential_71\"\n",
            "_________________________________________________________________\n",
            "Layer (type)                 Output Shape              Param #   \n",
            "=================================================================\n",
            "rescaling_62 (Rescaling)     (None, 32, 32, 3)         0         \n",
            "_________________________________________________________________\n",
            "conv2d_69 (Conv2D)           (None, 32, 32, 1)         76        \n",
            "_________________________________________________________________\n",
            "max_pooling2d_64 (MaxPooling (None, 16, 16, 1)         0         \n",
            "_________________________________________________________________\n",
            "flatten_56 (Flatten)         (None, 256)               0         \n",
            "_________________________________________________________________\n",
            "dense_144 (Dense)            (None, 15)                3855      \n",
            "_________________________________________________________________\n",
            "dense_145 (Dense)            (None, 10)                160       \n",
            "=================================================================\n",
            "Total params: 4,091\n",
            "Trainable params: 4,091\n",
            "Non-trainable params: 0\n",
            "_________________________________________________________________\n"
          ],
          "name": "stdout"
        }
      ]
    },
    {
      "cell_type": "code",
      "metadata": {
        "id": "Pv81zErBHG2I",
        "colab": {
          "base_uri": "https://localhost:8080/",
          "height": 450
        },
        "outputId": "7e0a5fdd-3de9-45ca-c731-60488f252f9d"
      },
      "source": [
        "plt_history(history2)"
      ],
      "execution_count": null,
      "outputs": [
        {
          "output_type": "display_data",
          "data": {
            "image/png": "[encoded data removed]",
            "text/plain": [
              "<Figure size 864x576 with 2 Axes>"
            ]
          },
          "metadata": {
            "tags": [],
            "needs_background": "light"
          }
        }
      ]
    },
    {
      "cell_type": "markdown",
      "metadata": {
        "id": "gfLAXfOoCSSF"
      },
      "source": [
        "Evaluation 1:"
      ]
    },
    {
      "cell_type": "code",
      "metadata": {
        "id": "BJ4qhKT_pDzY",
        "colab": {
          "base_uri": "https://localhost:8080/"
        },
        "outputId": "c0083420-9ded-4ad6-b52f-7b3c312cde88"
      },
      "source": [
        "evaluation2 = model2.evaluate(val_ds)"
      ],
      "execution_count": null,
      "outputs": [
        {
          "output_type": "stream",
          "text": [
            "102/102 [==============================] - 0s 2ms/step - loss: 0.3371 - accuracy: 0.8889\n"
          ],
          "name": "stdout"
        }
      ]
    },
    {
      "cell_type": "code",
      "metadata": {
        "colab": {
          "base_uri": "https://localhost:8080/"
        },
        "id": "lmZmS01u8HQj",
        "outputId": "e25a4f2c-b857-4fa9-c8ab-5876e5579790"
      },
      "source": [
        "print(\"Loss (zero-one-loss): \", 1-evaluation2[1])"
      ],
      "execution_count": null,
      "outputs": [
        {
          "output_type": "stream",
          "text": [
            "Loss (zero-one-loss):  0.11107677221298218\n"
          ],
          "name": "stdout"
        }
      ]
    },
    {
      "cell_type": "markdown",
      "metadata": {
        "id": "luwRFrtXQ8gu"
      },
      "source": [
        "### Training 2"
      ]
    },
    {
      "cell_type": "code",
      "metadata": {
        "id": "5jvj7OHsXFv0",
        "colab": {
          "base_uri": "https://localhost:8080/"
        },
        "outputId": "42bfe35a-450f-4e08-81de-78f58d1bca6b"
      },
      "source": [
        "history2 = model2.fit(\n",
        "  train_ds,\n",
        "  validation_data=val_ds,\n",
        "  epochs = n_epochs\n",
        ")"
      ],
      "execution_count": null,
      "outputs": [
        {
          "output_type": "stream",
          "text": [
            "Epoch 1/20\n",
            "405/405 [==============================] - 1s 3ms/step - loss: 0.3177 - accuracy: 0.8990 - val_loss: 0.3283 - val_accuracy: 0.8926\n",
            "Epoch 2/20\n",
            "405/405 [==============================] - 1s 3ms/step - loss: 0.3094 - accuracy: 0.9015 - val_loss: 0.3223 - val_accuracy: 0.8946\n",
            "Epoch 3/20\n",
            "405/405 [==============================] - 1s 3ms/step - loss: 0.3019 - accuracy: 0.9034 - val_loss: 0.3137 - val_accuracy: 0.8974\n",
            "Epoch 4/20\n",
            "405/405 [==============================] - 1s 3ms/step - loss: 0.2941 - accuracy: 0.9060 - val_loss: 0.3081 - val_accuracy: 0.9004\n",
            "Epoch 5/20\n",
            "405/405 [==============================] - 1s 3ms/step - loss: 0.2873 - accuracy: 0.9081 - val_loss: 0.3020 - val_accuracy: 0.9019\n",
            "Epoch 6/20\n",
            "405/405 [==============================] - 1s 3ms/step - loss: 0.2811 - accuracy: 0.9102 - val_loss: 0.2968 - val_accuracy: 0.9041\n",
            "Epoch 7/20\n",
            "405/405 [==============================] - 1s 3ms/step - loss: 0.2746 - accuracy: 0.9122 - val_loss: 0.2909 - val_accuracy: 0.9072\n",
            "Epoch 8/20\n",
            "405/405 [==============================] - 1s 3ms/step - loss: 0.2688 - accuracy: 0.9132 - val_loss: 0.2837 - val_accuracy: 0.9106\n",
            "Epoch 9/20\n",
            "405/405 [==============================] - 1s 3ms/step - loss: 0.2626 - accuracy: 0.9147 - val_loss: 0.2779 - val_accuracy: 0.9133\n",
            "Epoch 10/20\n",
            "405/405 [==============================] - 1s 3ms/step - loss: 0.2571 - accuracy: 0.9166 - val_loss: 0.2720 - val_accuracy: 0.9155\n",
            "Epoch 11/20\n",
            "405/405 [==============================] - 1s 3ms/step - loss: 0.2517 - accuracy: 0.9176 - val_loss: 0.2679 - val_accuracy: 0.9173\n",
            "Epoch 12/20\n",
            "405/405 [==============================] - 1s 3ms/step - loss: 0.2468 - accuracy: 0.9198 - val_loss: 0.2609 - val_accuracy: 0.9194\n",
            "Epoch 13/20\n",
            "405/405 [==============================] - 1s 3ms/step - loss: 0.2419 - accuracy: 0.9218 - val_loss: 0.2578 - val_accuracy: 0.9195\n",
            "Epoch 14/20\n",
            "405/405 [==============================] - 1s 3ms/step - loss: 0.2374 - accuracy: 0.9243 - val_loss: 0.2541 - val_accuracy: 0.9195\n",
            "Epoch 15/20\n",
            "405/405 [==============================] - 1s 3ms/step - loss: 0.2333 - accuracy: 0.9255 - val_loss: 0.2488 - val_accuracy: 0.9214\n",
            "Epoch 16/20\n",
            "405/405 [==============================] - 1s 3ms/step - loss: 0.2291 - accuracy: 0.9270 - val_loss: 0.2422 - val_accuracy: 0.9246\n",
            "Epoch 17/20\n",
            "405/405 [==============================] - 1s 3ms/step - loss: 0.2252 - accuracy: 0.9285 - val_loss: 0.2392 - val_accuracy: 0.9246\n",
            "Epoch 18/20\n",
            "405/405 [==============================] - 1s 3ms/step - loss: 0.2218 - accuracy: 0.9297 - val_loss: 0.2363 - val_accuracy: 0.9251\n",
            "Epoch 19/20\n",
            "405/405 [==============================] - 1s 3ms/step - loss: 0.2184 - accuracy: 0.9307 - val_loss: 0.2323 - val_accuracy: 0.9260\n",
            "Epoch 20/20\n",
            "405/405 [==============================] - 1s 3ms/step - loss: 0.2149 - accuracy: 0.9320 - val_loss: 0.2300 - val_accuracy: 0.9269\n"
          ],
          "name": "stdout"
        }
      ]
    },
    {
      "cell_type": "markdown",
      "metadata": {
        "id": "vY951cZ5XNx4"
      },
      "source": [
        "Evaluation 2:"
      ]
    },
    {
      "cell_type": "code",
      "metadata": {
        "id": "2de8p8-8PHnr",
        "colab": {
          "base_uri": "https://localhost:8080/"
        },
        "outputId": "35822d07-85f3-4564-a0ba-3a9b74bb818e"
      },
      "source": [
        "evaluation2 = model2.evaluate(val_ds)"
      ],
      "execution_count": null,
      "outputs": [
        {
          "output_type": "stream",
          "text": [
            "102/102 [==============================] - 0s 2ms/step - loss: 0.2300 - accuracy: 0.9269\n"
          ],
          "name": "stdout"
        }
      ]
    },
    {
      "cell_type": "code",
      "metadata": {
        "colab": {
          "base_uri": "https://localhost:8080/"
        },
        "id": "A0A-GVqz8El6",
        "outputId": "9de24b8d-78e9-4d74-c7f5-ed90b28f8e0e"
      },
      "source": [
        "print(\"Loss (zero-one-loss): \", 1-evaluation2[1])"
      ],
      "execution_count": null,
      "outputs": [
        {
          "output_type": "stream",
          "text": [
            "Loss (zero-one-loss):  0.07307279109954834\n"
          ],
          "name": "stdout"
        }
      ]
    },
    {
      "cell_type": "markdown",
      "metadata": {
        "id": "iht56L3Qt3QX"
      },
      "source": [
        "## Model 3"
      ]
    },
    {
      "cell_type": "markdown",
      "metadata": {
        "id": "tJ-_2WmWt5c8"
      },
      "source": [
        "### Training 1"
      ]
    },
    {
      "cell_type": "code",
      "metadata": {
        "id": "EzSXJLbzt2hl"
      },
      "source": [
        "model3 = tf.keras.Sequential([\n",
        "  layers.experimental.preprocessing.Rescaling(1./255, input_shape=(img_height, img_width, 3)),\n",
        "  layers.Conv2D(1, kernel_size=(7, 7), padding='same', activation='relu'),\n",
        "  layers.MaxPooling2D(),\n",
        "  layers.Flatten(),\n",
        "  layers.Dense(15, activation='relu'),\n",
        "  layers.Dense(num_classes)\n",
        "])"
      ],
      "execution_count": null,
      "outputs": []
    },
    {
      "cell_type": "code",
      "metadata": {
        "id": "_uti_7Fc37wN"
      },
      "source": [
        "model3.compile(\n",
        "  optimizer='adam',\n",
        "  loss=tf.losses.SparseCategoricalCrossentropy(from_logits=True),\n",
        "  metrics=['accuracy'])"
      ],
      "execution_count": null,
      "outputs": []
    },
    {
      "cell_type": "code",
      "metadata": {
        "id": "-USH-OFs3_N3",
        "colab": {
          "base_uri": "https://localhost:8080/"
        },
        "outputId": "1da9cb4c-7d5c-4710-f7c2-40a01dd6a962"
      },
      "source": [
        "history3 = model3.fit(\n",
        "  train_ds,\n",
        "  validation_data = val_ds,\n",
        "  epochs = n_epochs\n",
        ")"
      ],
      "execution_count": null,
      "outputs": [
        {
          "output_type": "stream",
          "text": [
            "Epoch 1/20\n",
            "405/405 [==============================] - 1s 3ms/step - loss: 1.4240 - accuracy: 0.5053 - val_loss: 0.9919 - val_accuracy: 0.6805\n",
            "Epoch 2/20\n",
            "405/405 [==============================] - 1s 3ms/step - loss: 0.8867 - accuracy: 0.7005 - val_loss: 0.7299 - val_accuracy: 0.7724\n",
            "Epoch 3/20\n",
            "405/405 [==============================] - 1s 3ms/step - loss: 0.6913 - accuracy: 0.7759 - val_loss: 0.5982 - val_accuracy: 0.8137\n",
            "Epoch 4/20\n",
            "405/405 [==============================] - 1s 3ms/step - loss: 0.5775 - accuracy: 0.8138 - val_loss: 0.5152 - val_accuracy: 0.8390\n",
            "Epoch 5/20\n",
            "405/405 [==============================] - 1s 3ms/step - loss: 0.5005 - accuracy: 0.8386 - val_loss: 0.4558 - val_accuracy: 0.8528\n",
            "Epoch 6/20\n",
            "405/405 [==============================] - 1s 3ms/step - loss: 0.4425 - accuracy: 0.8566 - val_loss: 0.4111 - val_accuracy: 0.8668\n",
            "Epoch 7/20\n",
            "405/405 [==============================] - 1s 3ms/step - loss: 0.3980 - accuracy: 0.8708 - val_loss: 0.3787 - val_accuracy: 0.8744\n",
            "Epoch 8/20\n",
            "405/405 [==============================] - 1s 3ms/step - loss: 0.3613 - accuracy: 0.8826 - val_loss: 0.3541 - val_accuracy: 0.8832\n",
            "Epoch 9/20\n",
            "405/405 [==============================] - 1s 3ms/step - loss: 0.3315 - accuracy: 0.8923 - val_loss: 0.3320 - val_accuracy: 0.8899\n",
            "Epoch 10/20\n",
            "405/405 [==============================] - 1s 3ms/step - loss: 0.3068 - accuracy: 0.8996 - val_loss: 0.3155 - val_accuracy: 0.8945\n",
            "Epoch 11/20\n",
            "405/405 [==============================] - 1s 3ms/step - loss: 0.2857 - accuracy: 0.9067 - val_loss: 0.3019 - val_accuracy: 0.8962\n",
            "Epoch 12/20\n",
            "405/405 [==============================] - 1s 3ms/step - loss: 0.2668 - accuracy: 0.9130 - val_loss: 0.2903 - val_accuracy: 0.9002\n",
            "Epoch 13/20\n",
            "405/405 [==============================] - 1s 3ms/step - loss: 0.2508 - accuracy: 0.9194 - val_loss: 0.2767 - val_accuracy: 0.9064\n",
            "Epoch 14/20\n",
            "405/405 [==============================] - 1s 3ms/step - loss: 0.2363 - accuracy: 0.9238 - val_loss: 0.2639 - val_accuracy: 0.9106\n",
            "Epoch 15/20\n",
            "405/405 [==============================] - 1s 3ms/step - loss: 0.2235 - accuracy: 0.9281 - val_loss: 0.2535 - val_accuracy: 0.9141\n",
            "Epoch 16/20\n",
            "405/405 [==============================] - 1s 3ms/step - loss: 0.2121 - accuracy: 0.9316 - val_loss: 0.2435 - val_accuracy: 0.9175\n",
            "Epoch 17/20\n",
            "405/405 [==============================] - 1s 3ms/step - loss: 0.2015 - accuracy: 0.9345 - val_loss: 0.2337 - val_accuracy: 0.9197\n",
            "Epoch 18/20\n",
            "405/405 [==============================] - 1s 3ms/step - loss: 0.1914 - accuracy: 0.9382 - val_loss: 0.2242 - val_accuracy: 0.9215\n",
            "Epoch 19/20\n",
            "405/405 [==============================] - 1s 3ms/step - loss: 0.1826 - accuracy: 0.9407 - val_loss: 0.2142 - val_accuracy: 0.9237\n",
            "Epoch 20/20\n",
            "405/405 [==============================] - 1s 3ms/step - loss: 0.1737 - accuracy: 0.9435 - val_loss: 0.2050 - val_accuracy: 0.9280\n"
          ],
          "name": "stdout"
        }
      ]
    },
    {
      "cell_type": "code",
      "metadata": {
        "id": "fafza6Ht4Fjo",
        "colab": {
          "base_uri": "https://localhost:8080/"
        },
        "outputId": "a97e6ade-fdb9-43aa-8258-07119b2e52bc"
      },
      "source": [
        "model3.summary()"
      ],
      "execution_count": null,
      "outputs": [
        {
          "output_type": "stream",
          "text": [
            "Model: \"sequential_72\"\n",
            "_________________________________________________________________\n",
            "Layer (type)                 Output Shape              Param #   \n",
            "=================================================================\n",
            "rescaling_63 (Rescaling)     (None, 32, 32, 3)         0         \n",
            "_________________________________________________________________\n",
            "conv2d_70 (Conv2D)           (None, 32, 32, 1)         148       \n",
            "_________________________________________________________________\n",
            "max_pooling2d_65 (MaxPooling (None, 16, 16, 1)         0         \n",
            "_________________________________________________________________\n",
            "flatten_57 (Flatten)         (None, 256)               0         \n",
            "_________________________________________________________________\n",
            "dense_146 (Dense)            (None, 15)                3855      \n",
            "_________________________________________________________________\n",
            "dense_147 (Dense)            (None, 10)                160       \n",
            "=================================================================\n",
            "Total params: 4,163\n",
            "Trainable params: 4,163\n",
            "Non-trainable params: 0\n",
            "_________________________________________________________________\n"
          ],
          "name": "stdout"
        }
      ]
    },
    {
      "cell_type": "code",
      "metadata": {
        "id": "IXsaZDO74KEV",
        "colab": {
          "base_uri": "https://localhost:8080/",
          "height": 450
        },
        "outputId": "bb3931c3-9c8b-4206-fa20-35f70de8f52e"
      },
      "source": [
        "plt_history(history3)"
      ],
      "execution_count": null,
      "outputs": [
        {
          "output_type": "display_data",
          "data": {
            "image/png": "[encoded data removed]",
            "text/plain": [
              "<Figure size 864x576 with 2 Axes>"
            ]
          },
          "metadata": {
            "tags": [],
            "needs_background": "light"
          }
        }
      ]
    },
    {
      "cell_type": "code",
      "metadata": {
        "id": "TSaO_JYq4J8s",
        "colab": {
          "base_uri": "https://localhost:8080/"
        },
        "outputId": "b0170d84-e045-4ff4-f918-c775a98e7f75"
      },
      "source": [
        "evaluation3 = model3.evaluate(val_ds)"
      ],
      "execution_count": null,
      "outputs": [
        {
          "output_type": "stream",
          "text": [
            "102/102 [==============================] - 0s 2ms/step - loss: 0.2050 - accuracy: 0.9280\n"
          ],
          "name": "stdout"
        }
      ]
    },
    {
      "cell_type": "code",
      "metadata": {
        "colab": {
          "base_uri": "https://localhost:8080/"
        },
        "id": "ATSTG__D8Cb3",
        "outputId": "ba4fe457-314d-4039-bc91-6cc561676175"
      },
      "source": [
        "print(\"Loss (zero-one-loss): \", 1-evaluation3[1])"
      ],
      "execution_count": null,
      "outputs": [
        {
          "output_type": "stream",
          "text": [
            "Loss (zero-one-loss):  0.07199132442474365\n"
          ],
          "name": "stdout"
        }
      ]
    },
    {
      "cell_type": "markdown",
      "metadata": {
        "id": "fBz0aFN1lsXD"
      },
      "source": [
        "### Training 2"
      ]
    },
    {
      "cell_type": "code",
      "metadata": {
        "id": "bWiNk-KUlvJn",
        "colab": {
          "base_uri": "https://localhost:8080/"
        },
        "outputId": "7839e81f-6fd3-4002-dd46-e90bf8cfbdaa"
      },
      "source": [
        "history3 = model3.fit(\n",
        "  train_ds,\n",
        "  validation_data = val_ds,\n",
        "  epochs = n_epochs\n",
        ")"
      ],
      "execution_count": null,
      "outputs": [
        {
          "output_type": "stream",
          "text": [
            "Epoch 1/20\n",
            "405/405 [==============================] - 1s 3ms/step - loss: 0.1657 - accuracy: 0.9463 - val_loss: 0.1983 - val_accuracy: 0.9305\n",
            "Epoch 2/20\n",
            "405/405 [==============================] - 1s 3ms/step - loss: 0.1584 - accuracy: 0.9484 - val_loss: 0.1906 - val_accuracy: 0.9330\n",
            "Epoch 3/20\n",
            "405/405 [==============================] - 1s 3ms/step - loss: 0.1511 - accuracy: 0.9512 - val_loss: 0.1863 - val_accuracy: 0.9356\n",
            "Epoch 4/20\n",
            "405/405 [==============================] - 1s 3ms/step - loss: 0.1449 - accuracy: 0.9534 - val_loss: 0.1828 - val_accuracy: 0.9371\n",
            "Epoch 5/20\n",
            "405/405 [==============================] - 1s 3ms/step - loss: 0.1390 - accuracy: 0.9553 - val_loss: 0.1775 - val_accuracy: 0.9390\n",
            "Epoch 6/20\n",
            "405/405 [==============================] - 1s 3ms/step - loss: 0.1334 - accuracy: 0.9568 - val_loss: 0.1757 - val_accuracy: 0.9396\n",
            "Epoch 7/20\n",
            "405/405 [==============================] - 1s 3ms/step - loss: 0.1279 - accuracy: 0.9584 - val_loss: 0.1735 - val_accuracy: 0.9399\n",
            "Epoch 8/20\n",
            "405/405 [==============================] - 1s 3ms/step - loss: 0.1228 - accuracy: 0.9601 - val_loss: 0.1684 - val_accuracy: 0.9413\n",
            "Epoch 9/20\n",
            "405/405 [==============================] - 1s 3ms/step - loss: 0.1185 - accuracy: 0.9618 - val_loss: 0.1682 - val_accuracy: 0.9414\n",
            "Epoch 10/20\n",
            "405/405 [==============================] - 1s 3ms/step - loss: 0.1142 - accuracy: 0.9636 - val_loss: 0.1644 - val_accuracy: 0.9433\n",
            "Epoch 11/20\n",
            "405/405 [==============================] - 1s 3ms/step - loss: 0.1105 - accuracy: 0.9648 - val_loss: 0.1615 - val_accuracy: 0.9438\n",
            "Epoch 12/20\n",
            "405/405 [==============================] - 1s 3ms/step - loss: 0.1068 - accuracy: 0.9661 - val_loss: 0.1579 - val_accuracy: 0.9447\n",
            "Epoch 13/20\n",
            "405/405 [==============================] - 1s 3ms/step - loss: 0.1031 - accuracy: 0.9674 - val_loss: 0.1558 - val_accuracy: 0.9453\n",
            "Epoch 14/20\n",
            "405/405 [==============================] - 1s 3ms/step - loss: 0.1000 - accuracy: 0.9681 - val_loss: 0.1519 - val_accuracy: 0.9465\n",
            "Epoch 15/20\n",
            "405/405 [==============================] - 1s 3ms/step - loss: 0.0970 - accuracy: 0.9696 - val_loss: 0.1508 - val_accuracy: 0.9464\n",
            "Epoch 16/20\n",
            "405/405 [==============================] - 1s 3ms/step - loss: 0.0947 - accuracy: 0.9701 - val_loss: 0.1502 - val_accuracy: 0.9465\n",
            "Epoch 17/20\n",
            "405/405 [==============================] - 1s 3ms/step - loss: 0.0924 - accuracy: 0.9707 - val_loss: 0.1479 - val_accuracy: 0.9478\n",
            "Epoch 18/20\n",
            "405/405 [==============================] - 1s 3ms/step - loss: 0.0899 - accuracy: 0.9712 - val_loss: 0.1471 - val_accuracy: 0.9479\n",
            "Epoch 19/20\n",
            "405/405 [==============================] - 1s 3ms/step - loss: 0.0876 - accuracy: 0.9718 - val_loss: 0.1505 - val_accuracy: 0.9467\n",
            "Epoch 20/20\n",
            "405/405 [==============================] - 1s 3ms/step - loss: 0.0849 - accuracy: 0.9727 - val_loss: 0.1529 - val_accuracy: 0.9456\n"
          ],
          "name": "stdout"
        }
      ]
    },
    {
      "cell_type": "code",
      "metadata": {
        "id": "2PzLfBjelv79",
        "colab": {
          "base_uri": "https://localhost:8080/"
        },
        "outputId": "7f94bb99-c376-4e6c-9ce3-9f41c2edb9b6"
      },
      "source": [
        "evaluation3 = model3.evaluate(val_ds)"
      ],
      "execution_count": null,
      "outputs": [
        {
          "output_type": "stream",
          "text": [
            "102/102 [==============================] - 0s 2ms/step - loss: 0.1529 - accuracy: 0.9456\n"
          ],
          "name": "stdout"
        }
      ]
    },
    {
      "cell_type": "code",
      "metadata": {
        "id": "SQPKBhlPcvYW",
        "colab": {
          "base_uri": "https://localhost:8080/"
        },
        "outputId": "1723766e-184d-4b08-e25e-39f68578e863"
      },
      "source": [
        "print(\"Loss (zero-one-loss): \", 1-evaluation3[1])"
      ],
      "execution_count": null,
      "outputs": [
        {
          "output_type": "stream",
          "text": [
            "Loss (zero-one-loss):  0.05437970161437988\n"
          ],
          "name": "stdout"
        }
      ]
    },
    {
      "cell_type": "markdown",
      "metadata": {
        "id": "XujJ_nvXcwJz"
      },
      "source": [
        "## Model 4"
      ]
    },
    {
      "cell_type": "markdown",
      "metadata": {
        "id": "S7pJwLytcwJz"
      },
      "source": [
        "### Training 1"
      ]
    },
    {
      "cell_type": "code",
      "metadata": {
        "id": "YJCcDUNocwJz"
      },
      "source": [
        "model4 = tf.keras.Sequential([\n",
        "  layers.experimental.preprocessing.Rescaling(1./255, input_shape=(img_height, img_width, 3)),\n",
        "  layers.Conv2D(3, kernel_size=(3, 3), padding='same', activation='relu'),\n",
        "  layers.MaxPooling2D(),\n",
        "  layers.Flatten(),\n",
        "  layers.Dense(15, activation='relu'),\n",
        "  layers.Dense(num_classes)\n",
        "])"
      ],
      "execution_count": null,
      "outputs": []
    },
    {
      "cell_type": "code",
      "metadata": {
        "id": "v3Kye-ZmcwJz"
      },
      "source": [
        "model4.compile(\n",
        "  optimizer='adam',\n",
        "  loss=tf.losses.SparseCategoricalCrossentropy(from_logits=True),\n",
        "  metrics=['accuracy'])"
      ],
      "execution_count": null,
      "outputs": []
    },
    {
      "cell_type": "code",
      "metadata": {
        "id": "WcmZgrKOcwJz",
        "colab": {
          "base_uri": "https://localhost:8080/"
        },
        "outputId": "54e9a2a2-7ad0-4c40-ff62-f8349ea4b9b1"
      },
      "source": [
        "history4 = model4.fit(\n",
        "  train_ds,\n",
        "  validation_data = val_ds,\n",
        "  epochs = n_epochs\n",
        ")"
      ],
      "execution_count": null,
      "outputs": [
        {
          "output_type": "stream",
          "text": [
            "Epoch 1/20\n",
            "405/405 [==============================] - 1s 3ms/step - loss: 1.4349 - accuracy: 0.5057 - val_loss: 0.9063 - val_accuracy: 0.6981\n",
            "Epoch 2/20\n",
            "405/405 [==============================] - 1s 3ms/step - loss: 0.7534 - accuracy: 0.7501 - val_loss: 0.7203 - val_accuracy: 0.7500\n",
            "Epoch 3/20\n",
            "405/405 [==============================] - 1s 3ms/step - loss: 0.5914 - accuracy: 0.8121 - val_loss: 0.6290 - val_accuracy: 0.7802\n",
            "Epoch 4/20\n",
            "405/405 [==============================] - 1s 3ms/step - loss: 0.4939 - accuracy: 0.8476 - val_loss: 0.5389 - val_accuracy: 0.8160\n",
            "Epoch 5/20\n",
            "405/405 [==============================] - 1s 3ms/step - loss: 0.4254 - accuracy: 0.8716 - val_loss: 0.4726 - val_accuracy: 0.8437\n",
            "Epoch 6/20\n",
            "405/405 [==============================] - 1s 3ms/step - loss: 0.3728 - accuracy: 0.8912 - val_loss: 0.4159 - val_accuracy: 0.8684\n",
            "Epoch 7/20\n",
            "405/405 [==============================] - 1s 3ms/step - loss: 0.3309 - accuracy: 0.9062 - val_loss: 0.3701 - val_accuracy: 0.8878\n",
            "Epoch 8/20\n",
            "405/405 [==============================] - 1s 3ms/step - loss: 0.2968 - accuracy: 0.9157 - val_loss: 0.3397 - val_accuracy: 0.8983\n",
            "Epoch 9/20\n",
            "405/405 [==============================] - 1s 3ms/step - loss: 0.2677 - accuracy: 0.9258 - val_loss: 0.3139 - val_accuracy: 0.9081\n",
            "Epoch 10/20\n",
            "405/405 [==============================] - 1s 3ms/step - loss: 0.2421 - accuracy: 0.9328 - val_loss: 0.2923 - val_accuracy: 0.9147\n",
            "Epoch 11/20\n",
            "405/405 [==============================] - 1s 3ms/step - loss: 0.2202 - accuracy: 0.9386 - val_loss: 0.2691 - val_accuracy: 0.9231\n",
            "Epoch 12/20\n",
            "405/405 [==============================] - 1s 3ms/step - loss: 0.2006 - accuracy: 0.9445 - val_loss: 0.2482 - val_accuracy: 0.9314\n",
            "Epoch 13/20\n",
            "405/405 [==============================] - 1s 3ms/step - loss: 0.1840 - accuracy: 0.9493 - val_loss: 0.2263 - val_accuracy: 0.9388\n",
            "Epoch 14/20\n",
            "405/405 [==============================] - 1s 3ms/step - loss: 0.1683 - accuracy: 0.9541 - val_loss: 0.2119 - val_accuracy: 0.9410\n",
            "Epoch 15/20\n",
            "405/405 [==============================] - 1s 3ms/step - loss: 0.1547 - accuracy: 0.9574 - val_loss: 0.1947 - val_accuracy: 0.9464\n",
            "Epoch 16/20\n",
            "405/405 [==============================] - 1s 3ms/step - loss: 0.1423 - accuracy: 0.9612 - val_loss: 0.1783 - val_accuracy: 0.9510\n",
            "Epoch 17/20\n",
            "405/405 [==============================] - 1s 3ms/step - loss: 0.1316 - accuracy: 0.9637 - val_loss: 0.1667 - val_accuracy: 0.9533\n",
            "Epoch 18/20\n",
            "405/405 [==============================] - 1s 3ms/step - loss: 0.1214 - accuracy: 0.9666 - val_loss: 0.1505 - val_accuracy: 0.9591\n",
            "Epoch 19/20\n",
            "405/405 [==============================] - 1s 3ms/step - loss: 0.1120 - accuracy: 0.9695 - val_loss: 0.1367 - val_accuracy: 0.9620\n",
            "Epoch 20/20\n",
            "405/405 [==============================] - 1s 4ms/step - loss: 0.1035 - accuracy: 0.9718 - val_loss: 0.1262 - val_accuracy: 0.9651\n"
          ],
          "name": "stdout"
        }
      ]
    },
    {
      "cell_type": "code",
      "metadata": {
        "id": "KOMOw1C3cwJ0",
        "colab": {
          "base_uri": "https://localhost:8080/"
        },
        "outputId": "df908443-a924-4c54-f72d-a3e27930dfb5"
      },
      "source": [
        "model4.summary()"
      ],
      "execution_count": null,
      "outputs": [
        {
          "output_type": "stream",
          "text": [
            "Model: \"sequential_73\"\n",
            "_________________________________________________________________\n",
            "Layer (type)                 Output Shape              Param #   \n",
            "=================================================================\n",
            "rescaling_64 (Rescaling)     (None, 32, 32, 3)         0         \n",
            "_________________________________________________________________\n",
            "conv2d_71 (Conv2D)           (None, 32, 32, 3)         84        \n",
            "_________________________________________________________________\n",
            "max_pooling2d_66 (MaxPooling (None, 16, 16, 3)         0         \n",
            "_________________________________________________________________\n",
            "flatten_58 (Flatten)         (None, 768)               0         \n",
            "_________________________________________________________________\n",
            "dense_148 (Dense)            (None, 15)                11535     \n",
            "_________________________________________________________________\n",
            "dense_149 (Dense)            (None, 10)                160       \n",
            "=================================================================\n",
            "Total params: 11,779\n",
            "Trainable params: 11,779\n",
            "Non-trainable params: 0\n",
            "_________________________________________________________________\n"
          ],
          "name": "stdout"
        }
      ]
    },
    {
      "cell_type": "code",
      "metadata": {
        "id": "qY3KalhZcwJ0",
        "colab": {
          "base_uri": "https://localhost:8080/",
          "height": 450
        },
        "outputId": "678e91e6-8f08-4b47-fa9f-b3b67152fef9"
      },
      "source": [
        "plt_history(history4)"
      ],
      "execution_count": null,
      "outputs": [
        {
          "output_type": "display_data",
          "data": {
            "image/png": "[encoded data removed]",
            "text/plain": [
              "<Figure size 864x576 with 2 Axes>"
            ]
          },
          "metadata": {
            "tags": [],
            "needs_background": "light"
          }
        }
      ]
    },
    {
      "cell_type": "markdown",
      "metadata": {
        "id": "7M5Zxs6OcwJ1"
      },
      "source": [
        "Evaluation 1:"
      ]
    },
    {
      "cell_type": "code",
      "metadata": {
        "id": "3c0DD-M0cwJ1",
        "colab": {
          "base_uri": "https://localhost:8080/"
        },
        "outputId": "57eb34ba-7719-49b5-f2e3-2f4be9f646a2"
      },
      "source": [
        "evaluation4 = model4.evaluate(val_ds)"
      ],
      "execution_count": null,
      "outputs": [
        {
          "output_type": "stream",
          "text": [
            "102/102 [==============================] - 0s 2ms/step - loss: 0.1262 - accuracy: 0.9651\n"
          ],
          "name": "stdout"
        }
      ]
    },
    {
      "cell_type": "code",
      "metadata": {
        "colab": {
          "base_uri": "https://localhost:8080/"
        },
        "id": "DsjaYaNK76uT",
        "outputId": "50bf4427-c4bb-4c3f-f94b-86682c475dd7"
      },
      "source": [
        "print(\"Loss (zero-one-loss): \", 1-evaluation4[1])"
      ],
      "execution_count": null,
      "outputs": [
        {
          "output_type": "stream",
          "text": [
            "Loss (zero-one-loss):  0.034914255142211914\n"
          ],
          "name": "stdout"
        }
      ]
    },
    {
      "cell_type": "markdown",
      "metadata": {
        "id": "h8S6O_y3cwJ1"
      },
      "source": [
        "### Training 2"
      ]
    },
    {
      "cell_type": "code",
      "metadata": {
        "id": "2ZvUkBvbcwJ1",
        "colab": {
          "base_uri": "https://localhost:8080/"
        },
        "outputId": "58c4135f-be00-4265-ee66-718cc9ac7f21"
      },
      "source": [
        "history4 = model4.fit(\n",
        "  train_ds,\n",
        "  validation_data=val_ds,\n",
        "  epochs = n_epochs\n",
        ")"
      ],
      "execution_count": null,
      "outputs": [
        {
          "output_type": "stream",
          "text": [
            "Epoch 1/20\n",
            "405/405 [==============================] - 1s 3ms/step - loss: 0.0960 - accuracy: 0.9744 - val_loss: 0.1163 - val_accuracy: 0.9685\n",
            "Epoch 2/20\n",
            "405/405 [==============================] - 1s 3ms/step - loss: 0.0895 - accuracy: 0.9758 - val_loss: 0.1057 - val_accuracy: 0.9722\n",
            "Epoch 3/20\n",
            "405/405 [==============================] - 1s 3ms/step - loss: 0.0832 - accuracy: 0.9774 - val_loss: 0.0969 - val_accuracy: 0.9748\n",
            "Epoch 4/20\n",
            "405/405 [==============================] - 1s 3ms/step - loss: 0.0779 - accuracy: 0.9785 - val_loss: 0.0905 - val_accuracy: 0.9767\n",
            "Epoch 5/20\n",
            "405/405 [==============================] - 1s 3ms/step - loss: 0.0731 - accuracy: 0.9799 - val_loss: 0.0843 - val_accuracy: 0.9785\n",
            "Epoch 6/20\n",
            "405/405 [==============================] - 1s 3ms/step - loss: 0.0690 - accuracy: 0.9809 - val_loss: 0.0794 - val_accuracy: 0.9795\n",
            "Epoch 7/20\n",
            "405/405 [==============================] - 1s 3ms/step - loss: 0.0650 - accuracy: 0.9821 - val_loss: 0.0758 - val_accuracy: 0.9799\n",
            "Epoch 8/20\n",
            "405/405 [==============================] - 1s 3ms/step - loss: 0.0624 - accuracy: 0.9829 - val_loss: 0.0745 - val_accuracy: 0.9795\n",
            "Epoch 9/20\n",
            "405/405 [==============================] - 1s 3ms/step - loss: 0.0593 - accuracy: 0.9842 - val_loss: 0.0731 - val_accuracy: 0.9791\n",
            "Epoch 10/20\n",
            "405/405 [==============================] - 1s 3ms/step - loss: 0.0549 - accuracy: 0.9855 - val_loss: 0.0688 - val_accuracy: 0.9812\n",
            "Epoch 11/20\n",
            "405/405 [==============================] - 1s 3ms/step - loss: 0.0499 - accuracy: 0.9865 - val_loss: 0.0635 - val_accuracy: 0.9825\n",
            "Epoch 12/20\n",
            "405/405 [==============================] - 1s 3ms/step - loss: 0.0478 - accuracy: 0.9877 - val_loss: 0.0574 - val_accuracy: 0.9844\n",
            "Epoch 13/20\n",
            "405/405 [==============================] - 1s 3ms/step - loss: 0.0430 - accuracy: 0.9895 - val_loss: 0.0544 - val_accuracy: 0.9859\n",
            "Epoch 14/20\n",
            "405/405 [==============================] - 1s 3ms/step - loss: 0.0421 - accuracy: 0.9897 - val_loss: 0.0528 - val_accuracy: 0.9858\n",
            "Epoch 15/20\n",
            "405/405 [==============================] - 1s 3ms/step - loss: 0.0388 - accuracy: 0.9902 - val_loss: 0.0517 - val_accuracy: 0.9870\n",
            "Epoch 16/20\n",
            "405/405 [==============================] - 1s 3ms/step - loss: 0.0359 - accuracy: 0.9912 - val_loss: 0.0503 - val_accuracy: 0.9861\n",
            "Epoch 17/20\n",
            "405/405 [==============================] - 1s 3ms/step - loss: 0.0367 - accuracy: 0.9909 - val_loss: 0.0504 - val_accuracy: 0.9859\n",
            "Epoch 18/20\n",
            "405/405 [==============================] - 1s 3ms/step - loss: 0.0343 - accuracy: 0.9912 - val_loss: 0.0520 - val_accuracy: 0.9841\n",
            "Epoch 19/20\n",
            "405/405 [==============================] - 1s 3ms/step - loss: 0.0321 - accuracy: 0.9919 - val_loss: 0.0486 - val_accuracy: 0.9858\n",
            "Epoch 20/20\n",
            "405/405 [==============================] - 1s 3ms/step - loss: 0.0301 - accuracy: 0.9928 - val_loss: 0.0465 - val_accuracy: 0.9870\n"
          ],
          "name": "stdout"
        }
      ]
    },
    {
      "cell_type": "markdown",
      "metadata": {
        "id": "hGVJkd53cwJ1"
      },
      "source": [
        "Evaluation 2:"
      ]
    },
    {
      "cell_type": "code",
      "metadata": {
        "id": "QabbIxrucwJ1",
        "colab": {
          "base_uri": "https://localhost:8080/"
        },
        "outputId": "bbdd643f-fd1f-40cf-92df-8fcfd953bc60"
      },
      "source": [
        "evaluation4 = model4.evaluate(val_ds)"
      ],
      "execution_count": null,
      "outputs": [
        {
          "output_type": "stream",
          "text": [
            "102/102 [==============================] - 0s 2ms/step - loss: 0.0465 - accuracy: 0.9870\n"
          ],
          "name": "stdout"
        }
      ]
    },
    {
      "cell_type": "code",
      "metadata": {
        "colab": {
          "base_uri": "https://localhost:8080/"
        },
        "id": "fM9bLLL77800",
        "outputId": "42841b49-8cfc-447a-c797-024ae9843a90"
      },
      "source": [
        "print(\"Loss (zero-one-loss): \", 1-evaluation4[1])"
      ],
      "execution_count": null,
      "outputs": [
        {
          "output_type": "stream",
          "text": [
            "Loss (zero-one-loss):  0.012977004051208496\n"
          ],
          "name": "stdout"
        }
      ]
    },
    {
      "cell_type": "markdown",
      "metadata": {
        "id": "hZvgU4K8QUNM"
      },
      "source": [
        "## Model 5"
      ]
    },
    {
      "cell_type": "markdown",
      "metadata": {
        "id": "4MU-nCJiQWcX"
      },
      "source": [
        "### Training 1"
      ]
    },
    {
      "cell_type": "code",
      "metadata": {
        "id": "FC_FRuWoQZWy"
      },
      "source": [
        "model5 = tf.keras.Sequential([\n",
        "  layers.experimental.preprocessing.Rescaling(1./255, input_shape=(img_height, img_width, 3)),\n",
        "  layers.Flatten(),\n",
        "  layers.Dense(15, activation = 'relu' ),\n",
        "  layers.Dense(10, activation = 'relu' ),\n",
        "  layers.Dense(num_classes)\n",
        "])"
      ],
      "execution_count": null,
      "outputs": []
    },
    {
      "cell_type": "code",
      "metadata": {
        "id": "eKGHkYgXwwgb"
      },
      "source": [
        "model5.compile(\n",
        "    optimizer = 'sgd',\n",
        "    loss=tf.losses.SparseCategoricalCrossentropy(from_logits=True),\n",
        "    metrics = ['accuracy'])"
      ],
      "execution_count": null,
      "outputs": []
    },
    {
      "cell_type": "code",
      "metadata": {
        "id": "a0q8W_vnwzG_",
        "colab": {
          "base_uri": "https://localhost:8080/"
        },
        "outputId": "23996d93-8627-496d-af32-5ce5329796c5"
      },
      "source": [
        "history5 = model5.fit(\n",
        "  train_ds,\n",
        "  validation_data = val_ds,\n",
        "  epochs = n_epochs\n",
        ")"
      ],
      "execution_count": null,
      "outputs": [
        {
          "output_type": "stream",
          "text": [
            "Epoch 1/20\n",
            "405/405 [==============================] - 1s 3ms/step - loss: 1.7942 - accuracy: 0.3694 - val_loss: 1.5220 - val_accuracy: 0.4670\n",
            "Epoch 2/20\n",
            "405/405 [==============================] - 1s 2ms/step - loss: 1.2568 - accuracy: 0.5594 - val_loss: 1.2421 - val_accuracy: 0.5727\n",
            "Epoch 3/20\n",
            "405/405 [==============================] - 1s 2ms/step - loss: 0.9455 - accuracy: 0.6781 - val_loss: 1.0715 - val_accuracy: 0.6380\n",
            "Epoch 4/20\n",
            "405/405 [==============================] - 1s 2ms/step - loss: 0.7724 - accuracy: 0.7359 - val_loss: 0.9782 - val_accuracy: 0.6637\n",
            "Epoch 5/20\n",
            "405/405 [==============================] - 1s 2ms/step - loss: 0.6537 - accuracy: 0.7759 - val_loss: 0.7763 - val_accuracy: 0.7244\n",
            "Epoch 6/20\n",
            "405/405 [==============================] - 1s 2ms/step - loss: 0.5582 - accuracy: 0.8169 - val_loss: 0.6305 - val_accuracy: 0.7880\n",
            "Epoch 7/20\n",
            "405/405 [==============================] - 1s 3ms/step - loss: 0.4690 - accuracy: 0.8521 - val_loss: 0.4618 - val_accuracy: 0.8511\n",
            "Epoch 8/20\n",
            "405/405 [==============================] - 1s 2ms/step - loss: 0.3969 - accuracy: 0.8774 - val_loss: 0.3792 - val_accuracy: 0.8820\n",
            "Epoch 9/20\n",
            "405/405 [==============================] - 1s 3ms/step - loss: 0.3416 - accuracy: 0.8964 - val_loss: 0.2985 - val_accuracy: 0.9156\n",
            "Epoch 10/20\n",
            "405/405 [==============================] - 1s 2ms/step - loss: 0.2982 - accuracy: 0.9105 - val_loss: 0.2583 - val_accuracy: 0.9291\n",
            "Epoch 11/20\n",
            "405/405 [==============================] - 1s 3ms/step - loss: 0.2610 - accuracy: 0.9241 - val_loss: 0.2272 - val_accuracy: 0.9391\n",
            "Epoch 12/20\n",
            "405/405 [==============================] - 1s 2ms/step - loss: 0.2298 - accuracy: 0.9348 - val_loss: 0.2027 - val_accuracy: 0.9479\n",
            "Epoch 13/20\n",
            "405/405 [==============================] - 1s 2ms/step - loss: 0.2041 - accuracy: 0.9432 - val_loss: 0.1824 - val_accuracy: 0.9535\n",
            "Epoch 14/20\n",
            "405/405 [==============================] - 1s 3ms/step - loss: 0.1814 - accuracy: 0.9518 - val_loss: 0.1652 - val_accuracy: 0.9592\n",
            "Epoch 15/20\n",
            "405/405 [==============================] - 1s 2ms/step - loss: 0.1618 - accuracy: 0.9581 - val_loss: 0.1490 - val_accuracy: 0.9623\n",
            "Epoch 16/20\n",
            "405/405 [==============================] - 1s 3ms/step - loss: 0.1446 - accuracy: 0.9630 - val_loss: 0.1346 - val_accuracy: 0.9651\n",
            "Epoch 17/20\n",
            "405/405 [==============================] - 1s 2ms/step - loss: 0.1302 - accuracy: 0.9674 - val_loss: 0.1226 - val_accuracy: 0.9686\n",
            "Epoch 18/20\n",
            "405/405 [==============================] - 1s 3ms/step - loss: 0.1181 - accuracy: 0.9715 - val_loss: 0.1137 - val_accuracy: 0.9694\n",
            "Epoch 19/20\n",
            "405/405 [==============================] - 1s 2ms/step - loss: 0.1076 - accuracy: 0.9749 - val_loss: 0.1030 - val_accuracy: 0.9731\n",
            "Epoch 20/20\n",
            "405/405 [==============================] - 1s 2ms/step - loss: 0.0975 - accuracy: 0.9783 - val_loss: 0.0931 - val_accuracy: 0.9781\n"
          ],
          "name": "stdout"
        }
      ]
    },
    {
      "cell_type": "code",
      "metadata": {
        "id": "XJIHIp8owzY3",
        "colab": {
          "base_uri": "https://localhost:8080/"
        },
        "outputId": "25827936-ad76-476e-8360-90376a9fd2a1"
      },
      "source": [
        "model5.summary()"
      ],
      "execution_count": null,
      "outputs": [
        {
          "output_type": "stream",
          "text": [
            "Model: \"sequential_74\"\n",
            "_________________________________________________________________\n",
            "Layer (type)                 Output Shape              Param #   \n",
            "=================================================================\n",
            "rescaling_65 (Rescaling)     (None, 32, 32, 3)         0         \n",
            "_________________________________________________________________\n",
            "flatten_59 (Flatten)         (None, 3072)              0         \n",
            "_________________________________________________________________\n",
            "dense_150 (Dense)            (None, 15)                46095     \n",
            "_________________________________________________________________\n",
            "dense_151 (Dense)            (None, 10)                160       \n",
            "_________________________________________________________________\n",
            "dense_152 (Dense)            (None, 10)                110       \n",
            "=================================================================\n",
            "Total params: 46,365\n",
            "Trainable params: 46,365\n",
            "Non-trainable params: 0\n",
            "_________________________________________________________________\n"
          ],
          "name": "stdout"
        }
      ]
    },
    {
      "cell_type": "code",
      "metadata": {
        "id": "50UGy6HDw6I5",
        "colab": {
          "base_uri": "https://localhost:8080/",
          "height": 450
        },
        "outputId": "02dd8083-209a-4c2e-b4bd-c94637390e5c"
      },
      "source": [
        "plt_history(history5)"
      ],
      "execution_count": null,
      "outputs": [
        {
          "output_type": "display_data",
          "data": {
            "image/png": "[encoded data removed]",
            "text/plain": [
              "<Figure size 864x576 with 2 Axes>"
            ]
          },
          "metadata": {
            "tags": [],
            "needs_background": "light"
          }
        }
      ]
    },
    {
      "cell_type": "code",
      "metadata": {
        "id": "YHAijqI_xCes",
        "colab": {
          "base_uri": "https://localhost:8080/"
        },
        "outputId": "e34773e5-39e3-4f4c-b81d-c7263c4f5144"
      },
      "source": [
        "evaluation5 = model5.evaluate(val_ds)"
      ],
      "execution_count": null,
      "outputs": [
        {
          "output_type": "stream",
          "text": [
            "102/102 [==============================] - 0s 2ms/step - loss: 0.0931 - accuracy: 0.9781\n"
          ],
          "name": "stdout"
        }
      ]
    },
    {
      "cell_type": "code",
      "metadata": {
        "colab": {
          "base_uri": "https://localhost:8080/"
        },
        "id": "q0RJzIjW7zss",
        "outputId": "3f0fa8da-3fc6-49b8-b944-b2f504f75eae"
      },
      "source": [
        "print(\"Loss (zero-one-loss): \", 1-evaluation5[1])"
      ],
      "execution_count": null,
      "outputs": [
        {
          "output_type": "stream",
          "text": [
            "Loss (zero-one-loss):  0.021937251091003418\n"
          ],
          "name": "stdout"
        }
      ]
    },
    {
      "cell_type": "markdown",
      "metadata": {
        "id": "eHbg5MktQbDq"
      },
      "source": [
        "### Training 2"
      ]
    },
    {
      "cell_type": "code",
      "metadata": {
        "id": "TKm5INlLuhu2",
        "colab": {
          "base_uri": "https://localhost:8080/"
        },
        "outputId": "08d9d3db-8e9d-4a74-821f-6aaeac71ebb2"
      },
      "source": [
        "history5 = model5.fit(\n",
        "  train_ds,\n",
        "  validation_data=val_ds,\n",
        "  epochs = n_epochs\n",
        ")"
      ],
      "execution_count": null,
      "outputs": [
        {
          "output_type": "stream",
          "text": [
            "Epoch 1/20\n",
            "405/405 [==============================] - 1s 3ms/step - loss: 0.0890 - accuracy: 0.9805 - val_loss: 0.0853 - val_accuracy: 0.9810\n",
            "Epoch 2/20\n",
            "405/405 [==============================] - 1s 3ms/step - loss: 0.0813 - accuracy: 0.9825 - val_loss: 0.0777 - val_accuracy: 0.9833\n",
            "Epoch 3/20\n",
            "405/405 [==============================] - 1s 2ms/step - loss: 0.0743 - accuracy: 0.9845 - val_loss: 0.0712 - val_accuracy: 0.9866\n",
            "Epoch 4/20\n",
            "405/405 [==============================] - 1s 3ms/step - loss: 0.0683 - accuracy: 0.9859 - val_loss: 0.0654 - val_accuracy: 0.9876\n",
            "Epoch 5/20\n",
            "405/405 [==============================] - 1s 3ms/step - loss: 0.0629 - accuracy: 0.9875 - val_loss: 0.0605 - val_accuracy: 0.9886\n",
            "Epoch 6/20\n",
            "405/405 [==============================] - 1s 3ms/step - loss: 0.0583 - accuracy: 0.9886 - val_loss: 0.0564 - val_accuracy: 0.9889\n",
            "Epoch 7/20\n",
            "405/405 [==============================] - 1s 3ms/step - loss: 0.0541 - accuracy: 0.9895 - val_loss: 0.0527 - val_accuracy: 0.9895\n",
            "Epoch 8/20\n",
            "405/405 [==============================] - 1s 2ms/step - loss: 0.0503 - accuracy: 0.9903 - val_loss: 0.0486 - val_accuracy: 0.9900\n",
            "Epoch 9/20\n",
            "405/405 [==============================] - 1s 3ms/step - loss: 0.0469 - accuracy: 0.9912 - val_loss: 0.0457 - val_accuracy: 0.9906\n",
            "Epoch 10/20\n",
            "405/405 [==============================] - 1s 3ms/step - loss: 0.0442 - accuracy: 0.9921 - val_loss: 0.0438 - val_accuracy: 0.9906\n",
            "Epoch 11/20\n",
            "405/405 [==============================] - 1s 2ms/step - loss: 0.0421 - accuracy: 0.9927 - val_loss: 0.0406 - val_accuracy: 0.9917\n",
            "Epoch 12/20\n",
            "405/405 [==============================] - 1s 3ms/step - loss: 0.0675 - accuracy: 0.9897 - val_loss: 2.8372 - val_accuracy: 0.5257\n",
            "Epoch 13/20\n",
            "405/405 [==============================] - 1s 2ms/step - loss: 0.1466 - accuracy: 0.9739 - val_loss: 0.0381 - val_accuracy: 0.9929\n",
            "Epoch 14/20\n",
            "405/405 [==============================] - 1s 3ms/step - loss: 0.0349 - accuracy: 0.9937 - val_loss: 0.0342 - val_accuracy: 0.9935\n",
            "Epoch 15/20\n",
            "405/405 [==============================] - 1s 2ms/step - loss: 0.0318 - accuracy: 0.9946 - val_loss: 0.0316 - val_accuracy: 0.9944\n",
            "Epoch 16/20\n",
            "405/405 [==============================] - 1s 3ms/step - loss: 0.0294 - accuracy: 0.9950 - val_loss: 0.0298 - val_accuracy: 0.9951\n",
            "Epoch 17/20\n",
            "405/405 [==============================] - 1s 3ms/step - loss: 0.0272 - accuracy: 0.9955 - val_loss: 0.0281 - val_accuracy: 0.9949\n",
            "Epoch 18/20\n",
            "405/405 [==============================] - 1s 2ms/step - loss: 0.0253 - accuracy: 0.9958 - val_loss: 0.0267 - val_accuracy: 0.9954\n",
            "Epoch 19/20\n",
            "405/405 [==============================] - 1s 3ms/step - loss: 0.0238 - accuracy: 0.9961 - val_loss: 0.0255 - val_accuracy: 0.9954\n",
            "Epoch 20/20\n",
            "405/405 [==============================] - 1s 3ms/step - loss: 0.0223 - accuracy: 0.9965 - val_loss: 0.0243 - val_accuracy: 0.9958\n"
          ],
          "name": "stdout"
        }
      ]
    },
    {
      "cell_type": "code",
      "metadata": {
        "id": "GhTOj3ZZxQxz",
        "colab": {
          "base_uri": "https://localhost:8080/"
        },
        "outputId": "edbeb25d-694b-4c61-90df-8863b99e2076"
      },
      "source": [
        "evaluation5 = model5.evaluate(val_ds)"
      ],
      "execution_count": null,
      "outputs": [
        {
          "output_type": "stream",
          "text": [
            "102/102 [==============================] - 0s 2ms/step - loss: 0.0243 - accuracy: 0.9958\n"
          ],
          "name": "stdout"
        }
      ]
    },
    {
      "cell_type": "code",
      "metadata": {
        "colab": {
          "base_uri": "https://localhost:8080/"
        },
        "id": "okA3IvII7pGO",
        "outputId": "b067600e-0876-4699-9997-06e341054af5"
      },
      "source": [
        "print(\"Loss (zero-one-loss): \", 1-evaluation5[1])"
      ],
      "execution_count": null,
      "outputs": [
        {
          "output_type": "stream",
          "text": [
            "Loss (zero-one-loss):  0.004171192646026611\n"
          ],
          "name": "stdout"
        }
      ]
    },
    {
      "cell_type": "markdown",
      "metadata": {
        "id": "Q20nVCKbCPBa"
      },
      "source": [
        "## RESULTS"
      ]
    },
    {
      "cell_type": "code",
      "metadata": {
        "colab": {
          "base_uri": "https://localhost:8080/"
        },
        "id": "Q7z0AFh5CSWs",
        "outputId": "de6df162-1888-4d5f-c013-4e9718792536"
      },
      "source": [
        "print(\"Model1: \", evaluation[1]*100)\n",
        "print(\"Model2: \", evaluation2[1]*100)\n",
        "print(\"Model3: \", evaluation3[1]*100)\n",
        "print(\"Model4: \", evaluation4[1]*100)\n",
        "print(\"Model5: \", evaluation5[1]*100)"
      ],
      "execution_count": null,
      "outputs": [
        {
          "output_type": "stream",
          "text": [
            "Model1:  46.42360508441925\n",
            "Model2:  92.69272089004517\n",
            "Model3:  94.56202983856201\n",
            "Model4:  98.70229959487915\n",
            "Model5:  99.58288073539734\n"
          ],
          "name": "stdout"
        }
      ]
    },
    {
      "cell_type": "markdown",
      "metadata": {
        "id": "S8b3l9J7edhB"
      },
      "source": [
        "## Finer control"
      ]
    },
    {
      "cell_type": "code",
      "metadata": {
        "id": "9n9InlKIJPOu"
      },
      "source": [
        "list_ds = tf.data.Dataset.list_files(str(data_dir/'*/*'), shuffle=False)\n",
        "list_ds = list_ds.shuffle(image_count, reshuffle_each_iteration=False)"
      ],
      "execution_count": null,
      "outputs": []
    },
    {
      "cell_type": "code",
      "metadata": {
        "id": "XdcI3Lbsr7sQ",
        "colab": {
          "base_uri": "https://localhost:8080/"
        },
        "outputId": "a8910108-5cd0-4448-fd4d-a239b267ca49"
      },
      "source": [
        "val_size = int(image_count * 0.2)\n",
        "train_ds = list_ds.skip(val_size)\n",
        "val_ds = list_ds.take(val_size)\n",
        "\n",
        "print(tf.data.experimental.cardinality(train_ds).numpy())\n",
        "print(tf.data.experimental.cardinality(val_ds).numpy())"
      ],
      "execution_count": null,
      "outputs": [
        {
          "output_type": "stream",
          "text": [
            "25896\n",
            "6473\n"
          ],
          "name": "stdout"
        }
      ]
    },
    {
      "cell_type": "code",
      "metadata": {
        "id": "SSUdygZbsCtn"
      },
      "source": [
        "def get_label(file_path):\n",
        "  # convert the path to a list of path components\n",
        "  parts = tf.strings.split(file_path, os.path.sep)\n",
        "  # The second to last is the class-directory\n",
        "  one_hot = parts[-2] == class_names\n",
        "  # Integer encode the label\n",
        "  return tf.argmax(one_hot)\n",
        "\n",
        "def decode_img(img):\n",
        "  # convert the compressed string to a 3D uint8 tensor\n",
        "  img = tf.image.decode_jpeg(img, channels=3)\n",
        "  # resize the image to the desired size\n",
        "  return tf.image.resize(img, [img_height, img_width])\n",
        "\n",
        "def process_path(file_path):\n",
        "  label = get_label(file_path)\n",
        "  # load the raw data from the file as a string\n",
        "  img = tf.io.read_file(file_path)\n",
        "  img = decode_img(img)\n",
        "  return img, label"
      ],
      "execution_count": null,
      "outputs": []
    },
    {
      "cell_type": "code",
      "metadata": {
        "id": "tLnTvNUjsNuz"
      },
      "source": [
        "# Set `num_parallel_calls` so multiple images are loaded/processed in parallel.\n",
        "train_ds = train_ds.map(process_path, num_parallel_calls=AUTOTUNE)\n",
        "val_ds = val_ds.map(process_path, num_parallel_calls=AUTOTUNE)"
      ],
      "execution_count": null,
      "outputs": []
    },
    {
      "cell_type": "markdown",
      "metadata": {
        "id": "glj9aX6HyCNu"
      },
      "source": [
        "###  Configure dataset for performance"
      ]
    },
    {
      "cell_type": "code",
      "metadata": {
        "id": "SRuIQdGRyDgY"
      },
      "source": [
        "def configure_for_performance(ds):\n",
        "  ds = ds.cache()\n",
        "  ds = ds.shuffle(buffer_size=1000)\n",
        "  ds = ds.batch(batch_size)\n",
        "  ds = ds.prefetch(buffer_size=AUTOTUNE)\n",
        "  return ds\n",
        "\n",
        "train_ds = configure_for_performance(train_ds)\n",
        "val_ds = configure_for_performance(val_ds)"
      ],
      "execution_count": null,
      "outputs": []
    },
    {
      "cell_type": "markdown",
      "metadata": {
        "id": "JC41aryv1c1s"
      },
      "source": [
        "### Random prediction"
      ]
    },
    {
      "cell_type": "code",
      "metadata": {
        "id": "tjo4i5r4yl4_",
        "colab": {
          "base_uri": "https://localhost:8080/"
        },
        "outputId": "422bba1a-fcd9-42ee-c63a-0fb5104cb495"
      },
      "source": [
        "probability_model = tf.keras.Sequential([model, tf.keras.layers.Softmax()])\n",
        "\n",
        "predictions = probability_model.predict(val_ds)\n",
        "\n",
        "i_pred = 1\n",
        "\n",
        "print(100*np.max(predictions[i_pred]), class_names[np.argmax(predictions[i_pred])])"
      ],
      "execution_count": null,
      "outputs": [
        {
          "output_type": "stream",
          "text": [
            "36.15826368331909 Grape\n"
          ],
          "name": "stdout"
        }
      ]
    },
    {
      "cell_type": "markdown",
      "metadata": {
        "id": "1t1gwr5BGLXJ"
      },
      "source": [
        "### Choosen prediction"
      ]
    },
    {
      "cell_type": "code",
      "metadata": {
        "id": "bGVTA3nPDgEZ",
        "colab": {
          "base_uri": "https://localhost:8080/"
        },
        "outputId": "c6d51a0c-c34e-4e46-c7f7-4d79015c6294"
      },
      "source": [
        "import tensorflow as tf\n",
        "from tensorflow import keras\n",
        "from tensorflow.keras import layers\n",
        "\n",
        "image_size = (img_height, img_width)\n",
        "batch_size = 32\n",
        "\n",
        "img = keras.preprocessing.image.load_img(\n",
        "    pathlib.Path(\"/content/drive/My Drive/Colab Notebooks/test/17_100.jpg\"),\n",
        "    target_size=image_size\n",
        ")\n",
        "\n",
        "plt.imshow(img)\n",
        "img_array = keras.preprocessing.image.img_to_array(img)\n",
        "img_array = tf.expand_dims(img_array, 0)  # Create batch axis\n",
        "\n",
        "predictions = probability_model.predict(img_array)\n",
        "score = predictions[0]\n",
        "\n",
        "for i in range(10):\n",
        "  print(str(int(100*score[i])) + \"%\", class_names[i])"
      ],
      "execution_count": null,
      "outputs": [
        {
          "output_type": "stream",
          "text": [
            "45% Apple\n",
            "0% Banana\n",
            "16% Cherry\n",
            "0% Grape\n",
            "12% Peach\n",
            "2% Pear\n",
            "6% Pepper\n",
            "0% Plum\n",
            "6% Potato\n",
            "8% Tomato\n"
          ],
          "name": "stdout"
        },
        {
          "output_type": "display_data",
          "data": {
            "image/png": "[encoded data removed]",
            "text/plain": [
              "<Figure size 432x288 with 1 Axes>"
            ]
          },
          "metadata": {
            "tags": [],
            "needs_background": "light"
          }
        }
      ]
    }
  ]
}